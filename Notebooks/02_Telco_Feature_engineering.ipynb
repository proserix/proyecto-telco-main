{
 "cells": [
  {
   "cell_type": "markdown",
   "metadata": {},
   "source": [
    "# Importamos librerias y conjunto de datos"
   ]
  },
  {
   "cell_type": "code",
   "execution_count": 1,
   "metadata": {},
   "outputs": [],
   "source": [
    "# para manipular datos\n",
    "import pandas as pd\n",
    "import numpy as np\n",
    "\n",
    "# para graficar\n",
    "import matplotlib.pyplot as plt\n",
    "import seaborn as sns\n",
    "\n",
    "# para la transformada de yeo-Johnson\n",
    "import scipy.stats as stats\n",
    "\n",
    "# para dividir en conjuntos de entrenamiento y test\n",
    "from sklearn.model_selection import train_test_split\n",
    "\n",
    "# para escalar variables\n",
    "from sklearn.preprocessing import MinMaxScaler\n",
    "\n",
    "# para salvar las escalas\n",
    "import joblib\n",
    "\n",
    "# para visualizar todas las columnas del dataset\n",
    "pd.pandas.set_option('display.max_columns', None)"
   ]
  },
  {
   "cell_type": "code",
   "execution_count": 2,
   "metadata": {},
   "outputs": [
    {
     "name": "stdout",
     "output_type": "stream",
     "text": [
      "(7043, 21)\n"
     ]
    },
    {
     "data": {
      "text/html": [
       "<div>\n",
       "<style scoped>\n",
       "    .dataframe tbody tr th:only-of-type {\n",
       "        vertical-align: middle;\n",
       "    }\n",
       "\n",
       "    .dataframe tbody tr th {\n",
       "        vertical-align: top;\n",
       "    }\n",
       "\n",
       "    .dataframe thead th {\n",
       "        text-align: right;\n",
       "    }\n",
       "</style>\n",
       "<table border=\"1\" class=\"dataframe\">\n",
       "  <thead>\n",
       "    <tr style=\"text-align: right;\">\n",
       "      <th></th>\n",
       "      <th>customerID</th>\n",
       "      <th>gender</th>\n",
       "      <th>SeniorCitizen</th>\n",
       "      <th>Partner</th>\n",
       "      <th>Dependents</th>\n",
       "      <th>tenure</th>\n",
       "      <th>PhoneService</th>\n",
       "      <th>MultipleLines</th>\n",
       "      <th>InternetService</th>\n",
       "      <th>OnlineSecurity</th>\n",
       "      <th>OnlineBackup</th>\n",
       "      <th>DeviceProtection</th>\n",
       "      <th>TechSupport</th>\n",
       "      <th>StreamingTV</th>\n",
       "      <th>StreamingMovies</th>\n",
       "      <th>Contract</th>\n",
       "      <th>PaperlessBilling</th>\n",
       "      <th>PaymentMethod</th>\n",
       "      <th>MonthlyCharges</th>\n",
       "      <th>TotalCharges</th>\n",
       "      <th>Churn</th>\n",
       "    </tr>\n",
       "  </thead>\n",
       "  <tbody>\n",
       "    <tr>\n",
       "      <th>0</th>\n",
       "      <td>7590-VHVEG</td>\n",
       "      <td>Female</td>\n",
       "      <td>0</td>\n",
       "      <td>Yes</td>\n",
       "      <td>No</td>\n",
       "      <td>1</td>\n",
       "      <td>No</td>\n",
       "      <td>No phone service</td>\n",
       "      <td>DSL</td>\n",
       "      <td>No</td>\n",
       "      <td>Yes</td>\n",
       "      <td>No</td>\n",
       "      <td>No</td>\n",
       "      <td>No</td>\n",
       "      <td>No</td>\n",
       "      <td>Month-to-month</td>\n",
       "      <td>Yes</td>\n",
       "      <td>Electronic check</td>\n",
       "      <td>29.85</td>\n",
       "      <td>29.85</td>\n",
       "      <td>No</td>\n",
       "    </tr>\n",
       "    <tr>\n",
       "      <th>1</th>\n",
       "      <td>5575-GNVDE</td>\n",
       "      <td>Male</td>\n",
       "      <td>0</td>\n",
       "      <td>No</td>\n",
       "      <td>No</td>\n",
       "      <td>34</td>\n",
       "      <td>Yes</td>\n",
       "      <td>No</td>\n",
       "      <td>DSL</td>\n",
       "      <td>Yes</td>\n",
       "      <td>No</td>\n",
       "      <td>Yes</td>\n",
       "      <td>No</td>\n",
       "      <td>No</td>\n",
       "      <td>No</td>\n",
       "      <td>One year</td>\n",
       "      <td>No</td>\n",
       "      <td>Mailed check</td>\n",
       "      <td>56.95</td>\n",
       "      <td>1889.5</td>\n",
       "      <td>No</td>\n",
       "    </tr>\n",
       "    <tr>\n",
       "      <th>2</th>\n",
       "      <td>3668-QPYBK</td>\n",
       "      <td>Male</td>\n",
       "      <td>0</td>\n",
       "      <td>No</td>\n",
       "      <td>No</td>\n",
       "      <td>2</td>\n",
       "      <td>Yes</td>\n",
       "      <td>No</td>\n",
       "      <td>DSL</td>\n",
       "      <td>Yes</td>\n",
       "      <td>Yes</td>\n",
       "      <td>No</td>\n",
       "      <td>No</td>\n",
       "      <td>No</td>\n",
       "      <td>No</td>\n",
       "      <td>Month-to-month</td>\n",
       "      <td>Yes</td>\n",
       "      <td>Mailed check</td>\n",
       "      <td>53.85</td>\n",
       "      <td>108.15</td>\n",
       "      <td>Yes</td>\n",
       "    </tr>\n",
       "    <tr>\n",
       "      <th>3</th>\n",
       "      <td>7795-CFOCW</td>\n",
       "      <td>Male</td>\n",
       "      <td>0</td>\n",
       "      <td>No</td>\n",
       "      <td>No</td>\n",
       "      <td>45</td>\n",
       "      <td>No</td>\n",
       "      <td>No phone service</td>\n",
       "      <td>DSL</td>\n",
       "      <td>Yes</td>\n",
       "      <td>No</td>\n",
       "      <td>Yes</td>\n",
       "      <td>Yes</td>\n",
       "      <td>No</td>\n",
       "      <td>No</td>\n",
       "      <td>One year</td>\n",
       "      <td>No</td>\n",
       "      <td>Bank transfer (automatic)</td>\n",
       "      <td>42.30</td>\n",
       "      <td>1840.75</td>\n",
       "      <td>No</td>\n",
       "    </tr>\n",
       "    <tr>\n",
       "      <th>4</th>\n",
       "      <td>9237-HQITU</td>\n",
       "      <td>Female</td>\n",
       "      <td>0</td>\n",
       "      <td>No</td>\n",
       "      <td>No</td>\n",
       "      <td>2</td>\n",
       "      <td>Yes</td>\n",
       "      <td>No</td>\n",
       "      <td>Fiber optic</td>\n",
       "      <td>No</td>\n",
       "      <td>No</td>\n",
       "      <td>No</td>\n",
       "      <td>No</td>\n",
       "      <td>No</td>\n",
       "      <td>No</td>\n",
       "      <td>Month-to-month</td>\n",
       "      <td>Yes</td>\n",
       "      <td>Electronic check</td>\n",
       "      <td>70.70</td>\n",
       "      <td>151.65</td>\n",
       "      <td>Yes</td>\n",
       "    </tr>\n",
       "  </tbody>\n",
       "</table>\n",
       "</div>"
      ],
      "text/plain": [
       "   customerID  gender  SeniorCitizen Partner Dependents  tenure PhoneService  \\\n",
       "0  7590-VHVEG  Female              0     Yes         No       1           No   \n",
       "1  5575-GNVDE    Male              0      No         No      34          Yes   \n",
       "2  3668-QPYBK    Male              0      No         No       2          Yes   \n",
       "3  7795-CFOCW    Male              0      No         No      45           No   \n",
       "4  9237-HQITU  Female              0      No         No       2          Yes   \n",
       "\n",
       "      MultipleLines InternetService OnlineSecurity OnlineBackup  \\\n",
       "0  No phone service             DSL             No          Yes   \n",
       "1                No             DSL            Yes           No   \n",
       "2                No             DSL            Yes          Yes   \n",
       "3  No phone service             DSL            Yes           No   \n",
       "4                No     Fiber optic             No           No   \n",
       "\n",
       "  DeviceProtection TechSupport StreamingTV StreamingMovies        Contract  \\\n",
       "0               No          No          No              No  Month-to-month   \n",
       "1              Yes          No          No              No        One year   \n",
       "2               No          No          No              No  Month-to-month   \n",
       "3              Yes         Yes          No              No        One year   \n",
       "4               No          No          No              No  Month-to-month   \n",
       "\n",
       "  PaperlessBilling              PaymentMethod  MonthlyCharges TotalCharges  \\\n",
       "0              Yes           Electronic check           29.85        29.85   \n",
       "1               No               Mailed check           56.95       1889.5   \n",
       "2              Yes               Mailed check           53.85       108.15   \n",
       "3               No  Bank transfer (automatic)           42.30      1840.75   \n",
       "4              Yes           Electronic check           70.70       151.65   \n",
       "\n",
       "  Churn  \n",
       "0    No  \n",
       "1    No  \n",
       "2   Yes  \n",
       "3    No  \n",
       "4   Yes  "
      ]
     },
     "execution_count": 2,
     "metadata": {},
     "output_type": "execute_result"
    }
   ],
   "source": [
    "# carga del dataset\n",
    "data = pd.read_csv('../Telco-Customer-Churn.csv')\n",
    "\n",
    "# vemos la cantidad de filas y columnas\n",
    "print(data.shape)\n",
    "\n",
    "# visualizamos el encabezado del dataset\n",
    "data.head()"
   ]
  },
  {
   "cell_type": "code",
   "execution_count": 3,
   "metadata": {},
   "outputs": [
    {
     "name": "stdout",
     "output_type": "stream",
     "text": [
      "<class 'pandas.core.frame.DataFrame'>\n",
      "RangeIndex: 7043 entries, 0 to 7042\n",
      "Data columns (total 21 columns):\n",
      " #   Column            Non-Null Count  Dtype  \n",
      "---  ------            --------------  -----  \n",
      " 0   customerID        7043 non-null   object \n",
      " 1   gender            7043 non-null   object \n",
      " 2   SeniorCitizen     7043 non-null   int64  \n",
      " 3   Partner           7043 non-null   object \n",
      " 4   Dependents        7043 non-null   object \n",
      " 5   tenure            7043 non-null   int64  \n",
      " 6   PhoneService      7043 non-null   object \n",
      " 7   MultipleLines     7043 non-null   object \n",
      " 8   InternetService   7043 non-null   object \n",
      " 9   OnlineSecurity    7043 non-null   object \n",
      " 10  OnlineBackup      7043 non-null   object \n",
      " 11  DeviceProtection  7043 non-null   object \n",
      " 12  TechSupport       7043 non-null   object \n",
      " 13  StreamingTV       7043 non-null   object \n",
      " 14  StreamingMovies   7043 non-null   object \n",
      " 15  Contract          7043 non-null   object \n",
      " 16  PaperlessBilling  7043 non-null   object \n",
      " 17  PaymentMethod     7043 non-null   object \n",
      " 18  MonthlyCharges    7043 non-null   float64\n",
      " 19  TotalCharges      7043 non-null   object \n",
      " 20  Churn             7043 non-null   object \n",
      "dtypes: float64(1), int64(2), object(18)\n",
      "memory usage: 1.1+ MB\n"
     ]
    }
   ],
   "source": [
    "data.info()"
   ]
  },
  {
   "cell_type": "markdown",
   "metadata": {},
   "source": [
    "Vemos como a TotalCharges la identifica como object, SeniorCitizen como numerica y Churn como Object. Antes de continuar, las reconvertimos a float64 y category respectivamente"
   ]
  },
  {
   "cell_type": "code",
   "execution_count": 4,
   "metadata": {},
   "outputs": [],
   "source": [
    "# cambiamos TotalCharges\n",
    "\n",
    "data[\"TotalCharges\"]=pd.to_numeric(data[\"TotalCharges\"],errors=\"coerce\")\n",
    "\n",
    "# Cambiamos SeniorCitizen\n",
    "data[\"SeniorCitizen\"] = data[\"SeniorCitizen\"].astype('category')\n",
    "\n",
    "# Cambiamos SeniorCitizen\n",
    "data[\"Churn\"] = data[\"Churn\"].astype('category')"
   ]
  },
  {
   "cell_type": "code",
   "execution_count": 5,
   "metadata": {},
   "outputs": [],
   "source": [
    "ls_var = data.columns\n",
    "ls_var=ls_var.drop([\"customerID\",\"Churn\"])\n",
    "ls_var=list(ls_var)"
   ]
  },
  {
   "cell_type": "markdown",
   "metadata": {},
   "source": [
    "# Ingenieria de variables\n",
    "\n",
    "En las siguientes celdas, diseñaremos las variables del conjunto de datos de para abordar:\n",
    "\n",
    "1. Valores faltantes\n",
    "2. Variables temporales\n",
    "3. Distribucion de variables no gaussianas\n",
    "4. Variables categoricas: borrar etiquetas raras\n",
    "5. variables categoricas: Convertir a numeros las cadena de texto\n",
    "5. Transformar las variables a escalas similares"
   ]
  },
  {
   "cell_type": "markdown",
   "metadata": {},
   "source": [
    "## Target\n",
    "\n",
    "La transformamos a formato de 0, 1"
   ]
  },
  {
   "cell_type": "code",
   "execution_count": 6,
   "metadata": {},
   "outputs": [
    {
     "name": "stdout",
     "output_type": "stream",
     "text": [
      "0    5174\n",
      "1    1869\n",
      "Name: Churn, dtype: int64\n"
     ]
    }
   ],
   "source": [
    "def verifica(val):\n",
    "    if val==\"No\":\n",
    "        return 0\n",
    "    elif val==\"Yes\":\n",
    "        return 1\n",
    "        \n",
    "data[\"Churn\"]=data[\"Churn\"].map(verifica)\n",
    "\n",
    "print(data[\"Churn\"].value_counts())\n"
   ]
  },
  {
   "cell_type": "markdown",
   "metadata": {},
   "source": [
    "## Valores faltantes\n",
    "\n",
    "### Categorical variables\n",
    "\n",
    "Reemplazaremos los valores perdidos con la cadena \"faltante\" en aquellas variables con muchos datos faltantes. \n",
    "\n",
    "Alternativamente, reemplazaremos los datos faltantes con la categoría más frecuente en aquellas variables que contienen menos observaciones sin valores. \n",
    "\n",
    "Esta es una práctica común."
   ]
  },
  {
   "cell_type": "code",
   "execution_count": 7,
   "metadata": {},
   "outputs": [
    {
     "data": {
      "text/plain": [
       "['gender',\n",
       " 'Partner',\n",
       " 'Dependents',\n",
       " 'PhoneService',\n",
       " 'MultipleLines',\n",
       " 'InternetService',\n",
       " 'OnlineSecurity',\n",
       " 'OnlineBackup',\n",
       " 'DeviceProtection',\n",
       " 'TechSupport',\n",
       " 'StreamingTV',\n",
       " 'StreamingMovies',\n",
       " 'Contract',\n",
       " 'PaperlessBilling',\n",
       " 'PaymentMethod']"
      ]
     },
     "execution_count": 7,
     "metadata": {},
     "output_type": "execute_result"
    }
   ],
   "source": [
    "# identifiquemos las variables categóricas \n",
    "# capturaremos las de tipo objeto y las cambiamos a category\n",
    "\n",
    "cat_vars = [var for var in ls_var if data[var].dtype == 'O']\n",
    "\n",
    "\n",
    "# Reconvertimos todas las variables categoricas\n",
    "data[cat_vars] = data[cat_vars].astype('category')\n",
    "\n",
    "\n",
    "# número de variables categóricas\n",
    "cat_vars"
   ]
  },
  {
   "cell_type": "code",
   "execution_count": 8,
   "metadata": {},
   "outputs": [
    {
     "data": {
      "text/plain": [
       "Series([], dtype: float64)"
      ]
     },
     "execution_count": 8,
     "metadata": {},
     "output_type": "execute_result"
    }
   ],
   "source": [
    "# hacemos una lista de las variables categóricas que contienen valores faltantes\n",
    "\n",
    "cat_vars_with_na = [\n",
    "    var for var in cat_vars\n",
    "    if data[var].isnull().sum() > 0\n",
    "]\n",
    "\n",
    "# vemos el porcentaje de valores perdidos por variable\n",
    "data[cat_vars_with_na ].isnull().mean().sort_values(ascending=False)"
   ]
  },
  {
   "cell_type": "code",
   "execution_count": 9,
   "metadata": {},
   "outputs": [],
   "source": [
    "# variables para imputar con la cadena que falta\n",
    "with_string_missing = [\n",
    "    var for var in cat_vars_with_na if data[var].isnull().mean() > 0.1]\n",
    "\n",
    "# variables a imputar con la categoría más frecuente\n",
    "with_frequent_category = [\n",
    "    var for var in cat_vars_with_na if data[var].isnull().mean() < 0.1]"
   ]
  },
  {
   "cell_type": "code",
   "execution_count": 10,
   "metadata": {},
   "outputs": [
    {
     "data": {
      "text/plain": [
       "[]"
      ]
     },
     "execution_count": 10,
     "metadata": {},
     "output_type": "execute_result"
    }
   ],
   "source": [
    "with_frequent_category"
   ]
  },
  {
   "cell_type": "code",
   "execution_count": 11,
   "metadata": {},
   "outputs": [
    {
     "data": {
      "text/plain": [
       "[]"
      ]
     },
     "execution_count": 11,
     "metadata": {},
     "output_type": "execute_result"
    }
   ],
   "source": [
    "with_string_missing"
   ]
  },
  {
   "cell_type": "markdown",
   "metadata": {},
   "source": [
    "### Variables Numericas\n",
    "\n",
    "Para diseñar valores perdidos en variables numéricas, haremos lo siguiente:\n",
    "\n",
    "- Agregar una variable indicadora binaria que falta \n",
    "- y luego Reemplace los valores faltantes en la variable original con la media"
   ]
  },
  {
   "cell_type": "code",
   "execution_count": 12,
   "metadata": {},
   "outputs": [
    {
     "data": {
      "text/plain": [
       "['customerID', 'SeniorCitizen', 'tenure', 'MonthlyCharges', 'TotalCharges']"
      ]
     },
     "execution_count": 12,
     "metadata": {},
     "output_type": "execute_result"
    }
   ],
   "source": [
    "# identifiquemos las variables numéricas\n",
    "\n",
    "num_vars = [\n",
    "    var for var in data.columns if var not in cat_vars and var != 'Churn'\n",
    "]\n",
    "\n",
    "# número de variables numéricas\n",
    "\n",
    "num_vars\n"
   ]
  },
  {
   "cell_type": "code",
   "execution_count": 13,
   "metadata": {},
   "outputs": [
    {
     "data": {
      "text/plain": [
       "TotalCharges    0.001562\n",
       "dtype: float64"
      ]
     },
     "execution_count": 13,
     "metadata": {},
     "output_type": "execute_result"
    }
   ],
   "source": [
    "# hacer una lista con las variables numéricas que contienen valores perdidos\n",
    "vars_with_na = [\n",
    "    var for var in num_vars\n",
    "    if data[var].isnull().sum() > 0\n",
    "]\n",
    "\n",
    "# porcentaje de valores perdidos por variable\n",
    "data[vars_with_na].isnull().mean()"
   ]
  },
  {
   "cell_type": "code",
   "execution_count": 14,
   "metadata": {},
   "outputs": [
    {
     "name": "stdout",
     "output_type": "stream",
     "text": [
      "TotalCharges 2283.3004408418697\n"
     ]
    },
    {
     "data": {
      "text/plain": [
       "TotalCharges    0\n",
       "dtype: int64"
      ]
     },
     "execution_count": 14,
     "metadata": {},
     "output_type": "execute_result"
    }
   ],
   "source": [
    "# Reemplazamos los valores faltantes cencontrados anteriormente\n",
    "\n",
    "for var in vars_with_na:\n",
    "\n",
    "    # calcular la media usando el conjunto\n",
    "    mean_val = data[var].mean()\n",
    "    \n",
    "    print(var, mean_val)\n",
    "\n",
    "    # agregamos indicador binario de faltante (en train y test)\n",
    "    data[var + '_na'] = np.where(data[var].isnull(), 1, 0)\n",
    "\n",
    "    # Reemplazar los valores faltantes por la media \n",
    "    data[var].fillna(mean_val, inplace=True)\n",
    "\n",
    "# Verificamos que no tenemos más valores faltantes en las variables diseñadas\n",
    "data[vars_with_na].isnull().sum()"
   ]
  },
  {
   "cell_type": "markdown",
   "metadata": {},
   "source": [
    "## Variables Categoricas\n"
   ]
  },
  {
   "cell_type": "code",
   "execution_count": 15,
   "metadata": {},
   "outputs": [
    {
     "name": "stdout",
     "output_type": "stream",
     "text": [
      "gender\n",
      "Female    3488\n",
      "Male      3555\n",
      "Name: gender, dtype: int64\n",
      "------------------------------\n",
      "Partner\n",
      "No     3641\n",
      "Yes    3402\n",
      "Name: Partner, dtype: int64\n",
      "------------------------------\n",
      "Dependents\n",
      "No     4933\n",
      "Yes    2110\n",
      "Name: Dependents, dtype: int64\n",
      "------------------------------\n",
      "PhoneService\n",
      "No      682\n",
      "Yes    6361\n",
      "Name: PhoneService, dtype: int64\n",
      "------------------------------\n",
      "MultipleLines\n",
      "No                  3390\n",
      "No phone service     682\n",
      "Yes                 2971\n",
      "Name: MultipleLines, dtype: int64\n",
      "------------------------------\n",
      "InternetService\n",
      "DSL            2421\n",
      "Fiber optic    3096\n",
      "No             1526\n",
      "Name: InternetService, dtype: int64\n",
      "------------------------------\n",
      "OnlineSecurity\n",
      "No                     3498\n",
      "No internet service    1526\n",
      "Yes                    2019\n",
      "Name: OnlineSecurity, dtype: int64\n",
      "------------------------------\n",
      "OnlineBackup\n",
      "No                     3088\n",
      "No internet service    1526\n",
      "Yes                    2429\n",
      "Name: OnlineBackup, dtype: int64\n",
      "------------------------------\n",
      "DeviceProtection\n",
      "No                     3095\n",
      "No internet service    1526\n",
      "Yes                    2422\n",
      "Name: DeviceProtection, dtype: int64\n",
      "------------------------------\n",
      "TechSupport\n",
      "No                     3473\n",
      "No internet service    1526\n",
      "Yes                    2044\n",
      "Name: TechSupport, dtype: int64\n",
      "------------------------------\n",
      "StreamingTV\n",
      "No                     2810\n",
      "No internet service    1526\n",
      "Yes                    2707\n",
      "Name: StreamingTV, dtype: int64\n",
      "------------------------------\n",
      "StreamingMovies\n",
      "No                     2785\n",
      "No internet service    1526\n",
      "Yes                    2732\n",
      "Name: StreamingMovies, dtype: int64\n",
      "------------------------------\n",
      "Contract\n",
      "Month-to-month    3875\n",
      "One year          1473\n",
      "Two year          1695\n",
      "Name: Contract, dtype: int64\n",
      "------------------------------\n",
      "PaperlessBilling\n",
      "No     2872\n",
      "Yes    4171\n",
      "Name: PaperlessBilling, dtype: int64\n",
      "------------------------------\n",
      "PaymentMethod\n",
      "Bank transfer (automatic)    1544\n",
      "Credit card (automatic)      1522\n",
      "Electronic check             2365\n",
      "Mailed check                 1612\n",
      "Name: PaymentMethod, dtype: int64\n",
      "------------------------------\n"
     ]
    }
   ],
   "source": [
    "# Desplegamos para visualizar las distintas categoria de cada variable\n",
    "\n",
    "for var in cat_vars:\n",
    "    print (data.groupby(var)[var].count())\n",
    "    print(\"------------------------------\")"
   ]
  },
  {
   "cell_type": "markdown",
   "metadata": {},
   "source": [
    "### Transformacion de Categorias\n",
    "\n",
    "Identificamos cada categoria tipo cadena y le asignamos un numero. Luego Convertimos"
   ]
  },
  {
   "cell_type": "code",
   "execution_count": 16,
   "metadata": {},
   "outputs": [],
   "source": [
    "orden_status_1 =pd.CategoricalDtype([0,1])\n",
    "orden_status_2 =pd.CategoricalDtype([0,1,2])\n",
    "orden_status_3 =pd.CategoricalDtype([0,1,2,3])"
   ]
  },
  {
   "cell_type": "code",
   "execution_count": 17,
   "metadata": {},
   "outputs": [],
   "source": [
    "# PaymentMethod\n",
    "\n",
    "PaymentMethod={\n",
    "    \"Bank transfer (automatic)\":0,\n",
    "    \"Credit card (automatic)\":1,\n",
    "    \"Mailed check\":2,\n",
    "    \"Electronic check\":3 \n",
    "}\n",
    "\n",
    "data[\"PaymentMethod\"]= data[\"PaymentMethod\"].map(PaymentMethod)\n",
    "data[\"PaymentMethod\"]= data[\"PaymentMethod\"].astype(orden_status_3)\n"
   ]
  },
  {
   "cell_type": "code",
   "execution_count": 18,
   "metadata": {},
   "outputs": [],
   "source": [
    "# Contract\n",
    "\n",
    "contract={\n",
    "    \"Month-to-month\":0,\n",
    "    \"One year\":1,\n",
    "    \"Two year\":2\n",
    "}\n",
    "\n",
    "data[\"Contract\"]= data[\"Contract\"].map(contract)\n",
    "data[\"Contract\"]= data[\"Contract\"].astype(orden_status_2)"
   ]
  },
  {
   "cell_type": "code",
   "execution_count": 19,
   "metadata": {},
   "outputs": [],
   "source": [
    "# Yes_No\n",
    "\n",
    "y_n={\n",
    "    \"No\":0,\n",
    "    \"Yes\":1,\n",
    "    \"Female\":0,\n",
    "    \"Male\":1\n",
    "}\n",
    "\n",
    "vars_y_n=[\"gender\",\"Partner\",\"Dependents\",\"PhoneService\",\"PaperlessBilling\"]\n",
    "\n",
    "for var in vars_y_n:\n",
    "    data[var]= data[var].map(y_n)\n",
    "    data[var]= data[var].astype(orden_status_1)"
   ]
  },
  {
   "cell_type": "code",
   "execution_count": 20,
   "metadata": {},
   "outputs": [],
   "source": [
    "# Yes_No_No internet service\n",
    "\n",
    "y_n_nis={\n",
    "    \"No\":0,\n",
    "    \"Yes\":1,\n",
    "    \"No internet service\":2\n",
    "}\n",
    "\n",
    "var_y_n_nis=[\"OnlineBackup\",\"DeviceProtection\",\"TechSupport\",\"StreamingTV\",\"StreamingMovies\",\"OnlineSecurity\"]\n",
    "\n",
    "for var in var_y_n_nis:\n",
    "    data[var]= data[var].map(y_n_nis)\n",
    "    data[var]= data[var].astype(orden_status_2)"
   ]
  },
  {
   "cell_type": "code",
   "execution_count": 21,
   "metadata": {},
   "outputs": [],
   "source": [
    "# Yes_No_No phone service\n",
    "\n",
    "y_n_np={\n",
    "    \"No\":0,\n",
    "    \"Yes\":1,\n",
    "    \"No phone service\":2\n",
    "}\n",
    "\n",
    "\n",
    "data[\"MultipleLines\"]= data[\"MultipleLines\"].map(y_n_np)\n",
    "data[\"MultipleLines\"]= data[\"MultipleLines\"].astype(orden_status_2)"
   ]
  },
  {
   "cell_type": "code",
   "execution_count": 22,
   "metadata": {},
   "outputs": [],
   "source": [
    "# DSL Fiber optic No\n",
    "\n",
    "InternetService={\n",
    "    \"No\":0,\n",
    "    \"DSL\":1,\n",
    "    \"Fiber optic\":2\n",
    "}\n",
    "data[\"InternetService\"]= data[\"InternetService\"].map(InternetService)\n",
    "data[\"InternetService\"]= data[\"InternetService\"].astype(orden_status_2)"
   ]
  },
  {
   "cell_type": "code",
   "execution_count": 23,
   "metadata": {},
   "outputs": [
    {
     "data": {
      "text/html": [
       "<div>\n",
       "<style scoped>\n",
       "    .dataframe tbody tr th:only-of-type {\n",
       "        vertical-align: middle;\n",
       "    }\n",
       "\n",
       "    .dataframe tbody tr th {\n",
       "        vertical-align: top;\n",
       "    }\n",
       "\n",
       "    .dataframe thead th {\n",
       "        text-align: right;\n",
       "    }\n",
       "</style>\n",
       "<table border=\"1\" class=\"dataframe\">\n",
       "  <thead>\n",
       "    <tr style=\"text-align: right;\">\n",
       "      <th></th>\n",
       "      <th>customerID</th>\n",
       "      <th>gender</th>\n",
       "      <th>SeniorCitizen</th>\n",
       "      <th>Partner</th>\n",
       "      <th>Dependents</th>\n",
       "      <th>tenure</th>\n",
       "      <th>PhoneService</th>\n",
       "      <th>MultipleLines</th>\n",
       "      <th>InternetService</th>\n",
       "      <th>OnlineSecurity</th>\n",
       "      <th>OnlineBackup</th>\n",
       "      <th>DeviceProtection</th>\n",
       "      <th>TechSupport</th>\n",
       "      <th>StreamingTV</th>\n",
       "      <th>StreamingMovies</th>\n",
       "      <th>Contract</th>\n",
       "      <th>PaperlessBilling</th>\n",
       "      <th>PaymentMethod</th>\n",
       "      <th>MonthlyCharges</th>\n",
       "      <th>TotalCharges</th>\n",
       "      <th>Churn</th>\n",
       "      <th>TotalCharges_na</th>\n",
       "    </tr>\n",
       "  </thead>\n",
       "  <tbody>\n",
       "    <tr>\n",
       "      <th>0</th>\n",
       "      <td>7590-VHVEG</td>\n",
       "      <td>0</td>\n",
       "      <td>0</td>\n",
       "      <td>1</td>\n",
       "      <td>0</td>\n",
       "      <td>1</td>\n",
       "      <td>0</td>\n",
       "      <td>2</td>\n",
       "      <td>1</td>\n",
       "      <td>0</td>\n",
       "      <td>1</td>\n",
       "      <td>0</td>\n",
       "      <td>0</td>\n",
       "      <td>0</td>\n",
       "      <td>0</td>\n",
       "      <td>0</td>\n",
       "      <td>1</td>\n",
       "      <td>3</td>\n",
       "      <td>29.85</td>\n",
       "      <td>29.85</td>\n",
       "      <td>0</td>\n",
       "      <td>0</td>\n",
       "    </tr>\n",
       "    <tr>\n",
       "      <th>1</th>\n",
       "      <td>5575-GNVDE</td>\n",
       "      <td>1</td>\n",
       "      <td>0</td>\n",
       "      <td>0</td>\n",
       "      <td>0</td>\n",
       "      <td>34</td>\n",
       "      <td>1</td>\n",
       "      <td>0</td>\n",
       "      <td>1</td>\n",
       "      <td>1</td>\n",
       "      <td>0</td>\n",
       "      <td>1</td>\n",
       "      <td>0</td>\n",
       "      <td>0</td>\n",
       "      <td>0</td>\n",
       "      <td>1</td>\n",
       "      <td>0</td>\n",
       "      <td>2</td>\n",
       "      <td>56.95</td>\n",
       "      <td>1889.50</td>\n",
       "      <td>0</td>\n",
       "      <td>0</td>\n",
       "    </tr>\n",
       "    <tr>\n",
       "      <th>2</th>\n",
       "      <td>3668-QPYBK</td>\n",
       "      <td>1</td>\n",
       "      <td>0</td>\n",
       "      <td>0</td>\n",
       "      <td>0</td>\n",
       "      <td>2</td>\n",
       "      <td>1</td>\n",
       "      <td>0</td>\n",
       "      <td>1</td>\n",
       "      <td>1</td>\n",
       "      <td>1</td>\n",
       "      <td>0</td>\n",
       "      <td>0</td>\n",
       "      <td>0</td>\n",
       "      <td>0</td>\n",
       "      <td>0</td>\n",
       "      <td>1</td>\n",
       "      <td>2</td>\n",
       "      <td>53.85</td>\n",
       "      <td>108.15</td>\n",
       "      <td>1</td>\n",
       "      <td>0</td>\n",
       "    </tr>\n",
       "    <tr>\n",
       "      <th>3</th>\n",
       "      <td>7795-CFOCW</td>\n",
       "      <td>1</td>\n",
       "      <td>0</td>\n",
       "      <td>0</td>\n",
       "      <td>0</td>\n",
       "      <td>45</td>\n",
       "      <td>0</td>\n",
       "      <td>2</td>\n",
       "      <td>1</td>\n",
       "      <td>1</td>\n",
       "      <td>0</td>\n",
       "      <td>1</td>\n",
       "      <td>1</td>\n",
       "      <td>0</td>\n",
       "      <td>0</td>\n",
       "      <td>1</td>\n",
       "      <td>0</td>\n",
       "      <td>0</td>\n",
       "      <td>42.30</td>\n",
       "      <td>1840.75</td>\n",
       "      <td>0</td>\n",
       "      <td>0</td>\n",
       "    </tr>\n",
       "    <tr>\n",
       "      <th>4</th>\n",
       "      <td>9237-HQITU</td>\n",
       "      <td>0</td>\n",
       "      <td>0</td>\n",
       "      <td>0</td>\n",
       "      <td>0</td>\n",
       "      <td>2</td>\n",
       "      <td>1</td>\n",
       "      <td>0</td>\n",
       "      <td>2</td>\n",
       "      <td>0</td>\n",
       "      <td>0</td>\n",
       "      <td>0</td>\n",
       "      <td>0</td>\n",
       "      <td>0</td>\n",
       "      <td>0</td>\n",
       "      <td>0</td>\n",
       "      <td>1</td>\n",
       "      <td>3</td>\n",
       "      <td>70.70</td>\n",
       "      <td>151.65</td>\n",
       "      <td>1</td>\n",
       "      <td>0</td>\n",
       "    </tr>\n",
       "  </tbody>\n",
       "</table>\n",
       "</div>"
      ],
      "text/plain": [
       "   customerID gender SeniorCitizen Partner Dependents  tenure PhoneService  \\\n",
       "0  7590-VHVEG      0             0       1          0       1            0   \n",
       "1  5575-GNVDE      1             0       0          0      34            1   \n",
       "2  3668-QPYBK      1             0       0          0       2            1   \n",
       "3  7795-CFOCW      1             0       0          0      45            0   \n",
       "4  9237-HQITU      0             0       0          0       2            1   \n",
       "\n",
       "  MultipleLines InternetService OnlineSecurity OnlineBackup DeviceProtection  \\\n",
       "0             2               1              0            1                0   \n",
       "1             0               1              1            0                1   \n",
       "2             0               1              1            1                0   \n",
       "3             2               1              1            0                1   \n",
       "4             0               2              0            0                0   \n",
       "\n",
       "  TechSupport StreamingTV StreamingMovies Contract PaperlessBilling  \\\n",
       "0           0           0               0        0                1   \n",
       "1           0           0               0        1                0   \n",
       "2           0           0               0        0                1   \n",
       "3           1           0               0        1                0   \n",
       "4           0           0               0        0                1   \n",
       "\n",
       "  PaymentMethod  MonthlyCharges  TotalCharges Churn  TotalCharges_na  \n",
       "0             3           29.85         29.85     0                0  \n",
       "1             2           56.95       1889.50     0                0  \n",
       "2             2           53.85        108.15     1                0  \n",
       "3             0           42.30       1840.75     0                0  \n",
       "4             3           70.70        151.65     1                0  "
      ]
     },
     "execution_count": 23,
     "metadata": {},
     "output_type": "execute_result"
    }
   ],
   "source": [
    "data.head(5)"
   ]
  },
  {
   "cell_type": "markdown",
   "metadata": {},
   "source": [
    "# Discretizaciones\n",
    "\n",
    "La discretizacion nos permitira segmentar variables continuas a fin de aumentar el poder explicativo y predictivo"
   ]
  },
  {
   "cell_type": "code",
   "execution_count": 24,
   "metadata": {},
   "outputs": [],
   "source": [
    "# Funcion para discretizar\n",
    "\n",
    "# Los cortes son los quantiles\n",
    "\n",
    "ls_cortes=[0,0.25,0.5,0.75,1]\n",
    "\n",
    "def discretizar(df,var,ls_cortes):\n",
    "    df=df.copy()\n",
    "    df[var]=pd.qcut(df[var],ls_cortes)\n",
    "    df[var]=df[var].astype(\"category\")\n",
    "    return df[var]\n",
    "\n",
    "#------------------------------------------------------------------------------------\n",
    "\n",
    "\n",
    "# Las variables continuas discretizadas, tienen ahora un tipo de dato tipo intervalo\n",
    "# Vamos a crear una funcion para transformar los intervalos en numeros enteros\n",
    "\n",
    "def convertir_intervalos_discretas(df,variable):\n",
    "    df=df.copy()\n",
    "    dic_valores_nuevos={}\n",
    "    \n",
    "    lista_val_viejos=[x.left for x in df[variable].unique()]\n",
    "    lista_val_viejos.sort()\n",
    "    \n",
    "    for i in range(0,len(lista_val_viejos)):\n",
    "        dic_valores_nuevos.update({lista_val_viejos[i]:i})\n",
    "        \n",
    "    df[variable + \"_corr\"]=df[variable].apply(lambda x:x.left)\n",
    "    df[variable + \"_corr\"]=df[variable + \"_corr\"].map(dic_valores_nuevos)\n",
    "\n",
    "    return df\n",
    "\n",
    "#------------------------------------------------------------------------------------\n",
    "\n",
    "\n",
    "var_a_discretizar =[\"tenure\",\"TotalCharges\"]\n",
    "\n",
    "for var in var_a_discretizar:\n",
    "    data[var + \"_disc\"]=discretizar(data,var,ls_cortes)\n",
    "    data=convertir_intervalos_discretas(data,var + \"_disc\")\n",
    "\n"
   ]
  },
  {
   "cell_type": "markdown",
   "metadata": {},
   "source": [
    "# Borramos variables sin uso"
   ]
  },
  {
   "cell_type": "code",
   "execution_count": 25,
   "metadata": {},
   "outputs": [
    {
     "data": {
      "text/plain": [
       "['customerID',\n",
       " 'tenure',\n",
       " 'MonthlyCharges',\n",
       " 'TotalCharges',\n",
       " 'TotalCharges_na',\n",
       " 'tenure_disc',\n",
       " 'TotalCharges_disc']"
      ]
     },
     "execution_count": 25,
     "metadata": {},
     "output_type": "execute_result"
    }
   ],
   "source": [
    "lista_variables_borrar=['customerID', # id de usuario\n",
    "                        'tenure', # Variable discretizada\n",
    "                        'MonthlyCharges', # Variable a discretizar\n",
    "                        'TotalCharges', # Variable a discretizar\n",
    "                        'TotalCharges_na', # Variable sintetiza identifica nulos\n",
    "                        'tenure_disc', # Variable discretizada a recodificar\n",
    "                        'TotalCharges_disc'] # Variable discretizada a recodificar\n",
    "lista_variables_borrar"
   ]
  },
  {
   "cell_type": "code",
   "execution_count": 26,
   "metadata": {},
   "outputs": [],
   "source": [
    "# Borramos las variables que no vamos a usar\n",
    "\n",
    "data.drop(columns=lista_variables_borrar,inplace=True)\n"
   ]
  },
  {
   "cell_type": "code",
   "execution_count": 27,
   "metadata": {},
   "outputs": [
    {
     "data": {
      "text/html": [
       "<div>\n",
       "<style scoped>\n",
       "    .dataframe tbody tr th:only-of-type {\n",
       "        vertical-align: middle;\n",
       "    }\n",
       "\n",
       "    .dataframe tbody tr th {\n",
       "        vertical-align: top;\n",
       "    }\n",
       "\n",
       "    .dataframe thead th {\n",
       "        text-align: right;\n",
       "    }\n",
       "</style>\n",
       "<table border=\"1\" class=\"dataframe\">\n",
       "  <thead>\n",
       "    <tr style=\"text-align: right;\">\n",
       "      <th></th>\n",
       "      <th>gender</th>\n",
       "      <th>SeniorCitizen</th>\n",
       "      <th>Partner</th>\n",
       "      <th>Dependents</th>\n",
       "      <th>PhoneService</th>\n",
       "      <th>MultipleLines</th>\n",
       "      <th>InternetService</th>\n",
       "      <th>OnlineSecurity</th>\n",
       "      <th>OnlineBackup</th>\n",
       "      <th>DeviceProtection</th>\n",
       "      <th>TechSupport</th>\n",
       "      <th>StreamingTV</th>\n",
       "      <th>StreamingMovies</th>\n",
       "      <th>Contract</th>\n",
       "      <th>PaperlessBilling</th>\n",
       "      <th>PaymentMethod</th>\n",
       "      <th>Churn</th>\n",
       "      <th>tenure_disc_corr</th>\n",
       "      <th>TotalCharges_disc_corr</th>\n",
       "    </tr>\n",
       "  </thead>\n",
       "  <tbody>\n",
       "    <tr>\n",
       "      <th>0</th>\n",
       "      <td>0</td>\n",
       "      <td>0</td>\n",
       "      <td>1</td>\n",
       "      <td>0</td>\n",
       "      <td>0</td>\n",
       "      <td>2</td>\n",
       "      <td>1</td>\n",
       "      <td>0</td>\n",
       "      <td>1</td>\n",
       "      <td>0</td>\n",
       "      <td>0</td>\n",
       "      <td>0</td>\n",
       "      <td>0</td>\n",
       "      <td>0</td>\n",
       "      <td>1</td>\n",
       "      <td>3</td>\n",
       "      <td>0</td>\n",
       "      <td>0</td>\n",
       "      <td>0</td>\n",
       "    </tr>\n",
       "    <tr>\n",
       "      <th>1</th>\n",
       "      <td>1</td>\n",
       "      <td>0</td>\n",
       "      <td>0</td>\n",
       "      <td>0</td>\n",
       "      <td>1</td>\n",
       "      <td>0</td>\n",
       "      <td>1</td>\n",
       "      <td>1</td>\n",
       "      <td>0</td>\n",
       "      <td>1</td>\n",
       "      <td>0</td>\n",
       "      <td>0</td>\n",
       "      <td>0</td>\n",
       "      <td>1</td>\n",
       "      <td>0</td>\n",
       "      <td>2</td>\n",
       "      <td>0</td>\n",
       "      <td>2</td>\n",
       "      <td>2</td>\n",
       "    </tr>\n",
       "    <tr>\n",
       "      <th>2</th>\n",
       "      <td>1</td>\n",
       "      <td>0</td>\n",
       "      <td>0</td>\n",
       "      <td>0</td>\n",
       "      <td>1</td>\n",
       "      <td>0</td>\n",
       "      <td>1</td>\n",
       "      <td>1</td>\n",
       "      <td>1</td>\n",
       "      <td>0</td>\n",
       "      <td>0</td>\n",
       "      <td>0</td>\n",
       "      <td>0</td>\n",
       "      <td>0</td>\n",
       "      <td>1</td>\n",
       "      <td>2</td>\n",
       "      <td>1</td>\n",
       "      <td>0</td>\n",
       "      <td>0</td>\n",
       "    </tr>\n",
       "    <tr>\n",
       "      <th>3</th>\n",
       "      <td>1</td>\n",
       "      <td>0</td>\n",
       "      <td>0</td>\n",
       "      <td>0</td>\n",
       "      <td>0</td>\n",
       "      <td>2</td>\n",
       "      <td>1</td>\n",
       "      <td>1</td>\n",
       "      <td>0</td>\n",
       "      <td>1</td>\n",
       "      <td>1</td>\n",
       "      <td>0</td>\n",
       "      <td>0</td>\n",
       "      <td>1</td>\n",
       "      <td>0</td>\n",
       "      <td>0</td>\n",
       "      <td>0</td>\n",
       "      <td>2</td>\n",
       "      <td>2</td>\n",
       "    </tr>\n",
       "    <tr>\n",
       "      <th>4</th>\n",
       "      <td>0</td>\n",
       "      <td>0</td>\n",
       "      <td>0</td>\n",
       "      <td>0</td>\n",
       "      <td>1</td>\n",
       "      <td>0</td>\n",
       "      <td>2</td>\n",
       "      <td>0</td>\n",
       "      <td>0</td>\n",
       "      <td>0</td>\n",
       "      <td>0</td>\n",
       "      <td>0</td>\n",
       "      <td>0</td>\n",
       "      <td>0</td>\n",
       "      <td>1</td>\n",
       "      <td>3</td>\n",
       "      <td>1</td>\n",
       "      <td>0</td>\n",
       "      <td>0</td>\n",
       "    </tr>\n",
       "  </tbody>\n",
       "</table>\n",
       "</div>"
      ],
      "text/plain": [
       "  gender SeniorCitizen Partner Dependents PhoneService MultipleLines  \\\n",
       "0      0             0       1          0            0             2   \n",
       "1      1             0       0          0            1             0   \n",
       "2      1             0       0          0            1             0   \n",
       "3      1             0       0          0            0             2   \n",
       "4      0             0       0          0            1             0   \n",
       "\n",
       "  InternetService OnlineSecurity OnlineBackup DeviceProtection TechSupport  \\\n",
       "0               1              0            1                0           0   \n",
       "1               1              1            0                1           0   \n",
       "2               1              1            1                0           0   \n",
       "3               1              1            0                1           1   \n",
       "4               2              0            0                0           0   \n",
       "\n",
       "  StreamingTV StreamingMovies Contract PaperlessBilling PaymentMethod Churn  \\\n",
       "0           0               0        0                1             3     0   \n",
       "1           0               0        1                0             2     0   \n",
       "2           0               0        0                1             2     1   \n",
       "3           0               0        1                0             0     0   \n",
       "4           0               0        0                1             3     1   \n",
       "\n",
       "  tenure_disc_corr TotalCharges_disc_corr  \n",
       "0                0                      0  \n",
       "1                2                      2  \n",
       "2                0                      0  \n",
       "3                2                      2  \n",
       "4                0                      0  "
      ]
     },
     "execution_count": 27,
     "metadata": {},
     "output_type": "execute_result"
    }
   ],
   "source": [
    "data.head(5)"
   ]
  },
  {
   "cell_type": "markdown",
   "metadata": {},
   "source": [
    "# Verificacion de tipos"
   ]
  },
  {
   "cell_type": "markdown",
   "metadata": {},
   "source": [
    "Reconvertimos a numerica la variable target para poder graficar"
   ]
  },
  {
   "cell_type": "code",
   "execution_count": 28,
   "metadata": {},
   "outputs": [],
   "source": [
    "data[\"Churn\"]=data[\"Churn\"].astype(\"int64\")"
   ]
  },
  {
   "cell_type": "code",
   "execution_count": 29,
   "metadata": {},
   "outputs": [
    {
     "name": "stdout",
     "output_type": "stream",
     "text": [
      "<class 'pandas.core.frame.DataFrame'>\n",
      "RangeIndex: 7043 entries, 0 to 7042\n",
      "Data columns (total 19 columns):\n",
      " #   Column                  Non-Null Count  Dtype   \n",
      "---  ------                  --------------  -----   \n",
      " 0   gender                  7043 non-null   category\n",
      " 1   SeniorCitizen           7043 non-null   category\n",
      " 2   Partner                 7043 non-null   category\n",
      " 3   Dependents              7043 non-null   category\n",
      " 4   PhoneService            7043 non-null   category\n",
      " 5   MultipleLines           7043 non-null   category\n",
      " 6   InternetService         7043 non-null   category\n",
      " 7   OnlineSecurity          7043 non-null   category\n",
      " 8   OnlineBackup            7043 non-null   category\n",
      " 9   DeviceProtection        7043 non-null   category\n",
      " 10  TechSupport             7043 non-null   category\n",
      " 11  StreamingTV             7043 non-null   category\n",
      " 12  StreamingMovies         7043 non-null   category\n",
      " 13  Contract                7043 non-null   category\n",
      " 14  PaperlessBilling        7043 non-null   category\n",
      " 15  PaymentMethod           7043 non-null   category\n",
      " 16  Churn                   7043 non-null   int64   \n",
      " 17  tenure_disc_corr        7043 non-null   category\n",
      " 18  TotalCharges_disc_corr  7043 non-null   category\n",
      "dtypes: category(18), int64(1)\n",
      "memory usage: 181.4 KB\n"
     ]
    }
   ],
   "source": [
    "data.info()"
   ]
  },
  {
   "cell_type": "code",
   "execution_count": 30,
   "metadata": {},
   "outputs": [],
   "source": [
    "# Variables a graficar (todas menos churn)\n",
    "\n",
    "variables_a_graficar=list(data.columns)\n",
    "del(variables_a_graficar[16])\n"
   ]
  },
  {
   "cell_type": "code",
   "execution_count": 31,
   "metadata": {},
   "outputs": [
    {
     "data": {
      "text/plain": [
       "['gender',\n",
       " 'SeniorCitizen',\n",
       " 'Partner',\n",
       " 'Dependents',\n",
       " 'PhoneService',\n",
       " 'MultipleLines',\n",
       " 'InternetService',\n",
       " 'OnlineSecurity',\n",
       " 'OnlineBackup',\n",
       " 'DeviceProtection',\n",
       " 'TechSupport',\n",
       " 'StreamingTV',\n",
       " 'StreamingMovies',\n",
       " 'Contract',\n",
       " 'PaperlessBilling',\n",
       " 'PaymentMethod',\n",
       " 'tenure_disc_corr',\n",
       " 'TotalCharges_disc_corr']"
      ]
     },
     "execution_count": 31,
     "metadata": {},
     "output_type": "execute_result"
    }
   ],
   "source": [
    "variables_a_graficar"
   ]
  },
  {
   "cell_type": "code",
   "execution_count": 32,
   "metadata": {},
   "outputs": [
    {
     "data": {
      "image/png": "[encoded data removed]",
      "text/plain": [
       "<Figure size 720x2880 with 18 Axes>"
      ]
     },
     "metadata": {},
     "output_type": "display_data"
    }
   ],
   "source": [
    "\n",
    "sns.set(font_scale=0.8, style=\"whitegrid\")\n",
    "\n",
    "ls_cat=variables_a_graficar\n",
    "\n",
    "n_rows=9\n",
    "n_cols=2\n",
    "\n",
    "f, ax=plt.subplots(nrows=n_rows,\n",
    "                   ncols=n_cols,\n",
    "                   figsize = (10,40))\n",
    "\n",
    "i=0\n",
    "\n",
    "for row in range(0,n_rows,1):\n",
    "    sns.set(font_scale=0.8)\n",
    "    plt.tick_params(labelsize=10)\n",
    "    \n",
    "    for col in range(0,n_cols,1):\n",
    "        sns.countplot(ax=ax[row,col],data=data, x=ls_cat[i],hue=\"Churn\",palette=\"viridis\")\n",
    "        i+=1\n",
    "    \n",
    "plt.show()"
   ]
  },
  {
   "cell_type": "markdown",
   "metadata": {},
   "source": [
    "# Separamos en conjunto de train y test"
   ]
  },
  {
   "cell_type": "code",
   "execution_count": 37,
   "metadata": {},
   "outputs": [
    {
     "data": {
      "text/plain": [
       "((5634, 18), (1409, 18))"
      ]
     },
     "execution_count": 37,
     "metadata": {},
     "output_type": "execute_result"
    }
   ],
   "source": [
    "# Separemos en entramiento y conjunto de prueba \n",
    "\n",
    "target=data[\"Churn\"]\n",
    "\n",
    "\n",
    "X_train, X_test, y_train, y_test = train_test_split(\n",
    "    data.drop('Churn', axis=1), # variables predictivas\n",
    "    target, # target\n",
    "    test_size=0.2, # porción del conjunto de datos para asignar al conjunto de prueba\n",
    "    random_state=0, # estamos poniendo la semilla aquí\n",
    "    stratify=target # para que la generacion de las clases este compensada\n",
    ")\n",
    "\n",
    "X_train.shape, X_test.shape"
   ]
  },
  {
   "cell_type": "code",
   "execution_count": 38,
   "metadata": {},
   "outputs": [
    {
     "data": {
      "text/plain": [
       "[]"
      ]
     },
     "execution_count": 38,
     "metadata": {},
     "output_type": "execute_result"
    }
   ],
   "source": [
    "# comprobar la ausencia de na en el train\n",
    "[var for var in X_train.columns if X_train[var].isnull().sum() > 0]"
   ]
  },
  {
   "cell_type": "code",
   "execution_count": 39,
   "metadata": {},
   "outputs": [
    {
     "data": {
      "text/plain": [
       "[]"
      ]
     },
     "execution_count": 39,
     "metadata": {},
     "output_type": "execute_result"
    }
   ],
   "source": [
    "# comprobar la ausencia de na en el test\n",
    "[var for var in X_test.columns if X_test[var].isnull().sum() > 0]"
   ]
  },
  {
   "cell_type": "markdown",
   "metadata": {},
   "source": [
    "## Guardamos los Conjuntos de Prueba y entrenamiento\n"
   ]
  },
  {
   "cell_type": "code",
   "execution_count": 40,
   "metadata": {},
   "outputs": [],
   "source": [
    "# Guardemos ahora el train y los conjuntos de prueba\n",
    "\n",
    "X_train.to_csv('xtrain.csv', index=False)\n",
    "X_test.to_csv('xtest.csv', index=False)\n",
    "\n",
    "y_train.to_csv('ytrain.csv', index=False)\n",
    "y_test.to_csv('ytest.csv', index=False)"
   ]
  },
  {
   "cell_type": "code",
   "execution_count": null,
   "metadata": {},
   "outputs": [],
   "source": []
  }
 ],
 "metadata": {
  "kernelspec": {
   "display_name": "Python 3",
   "language": "python",
   "name": "python3"
  },
  "language_info": {
   "codemirror_mode": {
    "name": "ipython",
    "version": 3
   },
   "file_extension": ".py",
   "mimetype": "text/x-python",
   "name": "python",
   "nbconvert_exporter": "python",
   "pygments_lexer": "ipython3",
   "version": "3.9.1"
  },
  "toc": {
   "base_numbering": 1,
   "nav_menu": {},
   "number_sections": true,
   "sideBar": true,
   "skip_h1_title": false,
   "title_cell": "Table of Contents",
   "title_sidebar": "Contents",
   "toc_cell": false,
   "toc_position": {
    "height": "583px",
    "left": "0px",
    "right": "1324px",
    "top": "107px",
    "width": "212px"
   },
   "toc_section_display": "block",
   "toc_window_display": false
  },
  "varInspector": {
   "cols": {
    "lenName": 16,
    "lenType": 16,
    "lenVar": 40
   },
   "kernels_config": {
    "python": {
     "delete_cmd_postfix": "",
     "delete_cmd_prefix": "del ",
     "library": "var_list.py",
     "varRefreshCmd": "print(var_dic_list())"
    },
    "r": {
     "delete_cmd_postfix": ") ",
     "delete_cmd_prefix": "rm(",
     "library": "var_list.r",
     "varRefreshCmd": "cat(var_dic_list()) "
    }
   },
   "types_to_exclude": [
    "module",
    "function",
    "builtin_function_or_method",
    "instance",
    "_Feature"
   ],
   "window_display": false
  }
 },
 "nbformat": 4,
 "nbformat_minor": 2
}
