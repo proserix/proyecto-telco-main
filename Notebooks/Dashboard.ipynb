{
 "cells": [
  {
   "cell_type": "code",
   "execution_count": 1,
   "id": "79b8347e",
   "metadata": {},
   "outputs": [
    {
     "name": "stderr",
     "output_type": "stream",
     "text": [
      "<ipython-input-1-196a4f49381f>:3: UserWarning: \n",
      "The dash_table package is deprecated. Please replace\n",
      "`import dash_table` with `from dash import dash_table`\n",
      "\n",
      "Also, if you're using any of the table format helpers (e.g. Group), replace \n",
      "`from dash_table.Format import Group` with \n",
      "`from dash.dash_table.Format import Group`\n",
      "  import dash_table as dt\n"
     ]
    }
   ],
   "source": [
    "import dash  #(version 1.12.0)\n",
    "from dash.dependencies import Input, Output\n",
    "import dash_table as dt\n",
    "from dash import dcc\n",
    "from dash import html\n",
    "import plotly.express as px\n",
    "import dash_bootstrap_components as dbc\n",
    "from jupyter_dash import JupyterDash\n",
    "import plotly.graph_objects as go\n",
    "\n",
    "import pandas as pd\n",
    "import numpy as np\n",
    "\n",
    "#Automcompletar rápido\n",
    "%config IPCompleter.greedy=True"
   ]
  },
  {
   "cell_type": "code",
   "execution_count": 2,
   "id": "67fd50c4",
   "metadata": {},
   "outputs": [
    {
     "name": "stdout",
     "output_type": "stream",
     "text": [
      "Index(['customerID', 'Contract', 'tenure', 'TotalCharges', 'InternetService',\n",
      "       'pred', 'cluster'],\n",
      "      dtype='object')\n"
     ]
    }
   ],
   "source": [
    "# Import the cleaned data (importing csv into pandas)\n",
    "impact_target=0.2653\n",
    "df = pd.read_csv(\"../data/final_data.csv\")\n",
    "#df=df[df['Churn']==0]\n",
    "\n",
    "df = df[[\"customerID\",\"Contract\",\"tenure\",\"TotalCharges\",\"InternetService\",\"pred\",\"cluster\"]]\n",
    "\n",
    "# Creating an ID column name gives us more interactive capabilities\n",
    "df.set_index('customerID', inplace=True, drop=False)\n",
    "\n",
    "df=df[df[\"pred\"]>=impact_target]\n",
    "print(df.columns)"
   ]
  },
  {
   "cell_type": "code",
   "execution_count": 3,
   "id": "cfccec61",
   "metadata": {},
   "outputs": [],
   "source": [
    "# # Cargamos las discretizaciones\n",
    "# df_disc_tc=pd.read_csv(\"../data/discret_TotalCharges.csv\")\n",
    "# df_disc_tenure=pd.read_csv(\"../data/discret_tenure.csv\")\n",
    "# df_disc_contract=pd.read_csv(\"../data/discret_Contract.csv\")\n",
    "\n",
    "\n",
    "# # Limpiamos un poco las conversiones\n",
    "# df_disc_tc.rename(columns={\"Unnamed: 0\":\"intervalo\"},inplace=True)\n",
    "# df_disc_tenure.rename(columns={\"Unnamed: 0\":\"intervalo\"},inplace=True)\n",
    "# df_disc_contract.rename(columns={\"Unnamed: 0\":\"intervalo\"},inplace=True)\n",
    "\n",
    "\n",
    "# # Transformamos a diccionario para poder usar map\n",
    "# disc_tc=df_disc_tc['intervalo'].to_dict()\n",
    "# disc_tenure=df_disc_tenure['intervalo'].to_dict()\n",
    "# disc_contract=df_disc_contract['index'].to_dict()\n",
    "\n",
    "\n",
    "# # Reemplazamos por los valores originales de las discretizaciones\n",
    "# df[\"TotalCharges_disc_corr\"]= df[\"TotalCharges_disc_corr\"].map(disc_tc)\n",
    "# df[\"tenure_disc_corr\"]= df[\"tenure_disc_corr\"].map(disc_tenure)\n",
    "# df[\"Contract\"]= df[\"Contract\"].map(disc_contract)"
   ]
  },
  {
   "cell_type": "code",
   "execution_count": 4,
   "id": "5b14b5b4",
   "metadata": {},
   "outputs": [],
   "source": [
    "df['pred']=df['pred'].transform(lambda x: np.round(x,3))\n",
    "df=df.sort_values(by='pred',ascending=False).reset_index(drop=True)"
   ]
  },
  {
   "cell_type": "code",
   "execution_count": 5,
   "id": "ed48e2f8",
   "metadata": {},
   "outputs": [
    {
     "data": {
      "text/plain": [
       "(2845, 7)"
      ]
     },
     "execution_count": 5,
     "metadata": {},
     "output_type": "execute_result"
    }
   ],
   "source": [
    "df.shape"
   ]
  },
  {
   "cell_type": "code",
   "execution_count": 6,
   "id": "a1789047",
   "metadata": {},
   "outputs": [
    {
     "data": {
      "text/html": [
       "<div>\n",
       "<style scoped>\n",
       "    .dataframe tbody tr th:only-of-type {\n",
       "        vertical-align: middle;\n",
       "    }\n",
       "\n",
       "    .dataframe tbody tr th {\n",
       "        vertical-align: top;\n",
       "    }\n",
       "\n",
       "    .dataframe thead th {\n",
       "        text-align: right;\n",
       "    }\n",
       "</style>\n",
       "<table border=\"1\" class=\"dataframe\">\n",
       "  <thead>\n",
       "    <tr style=\"text-align: right;\">\n",
       "      <th></th>\n",
       "      <th>customerID</th>\n",
       "      <th>Contract</th>\n",
       "      <th>tenure</th>\n",
       "      <th>TotalCharges</th>\n",
       "      <th>InternetService</th>\n",
       "      <th>pred</th>\n",
       "      <th>cluster</th>\n",
       "    </tr>\n",
       "  </thead>\n",
       "  <tbody>\n",
       "    <tr>\n",
       "      <th>0</th>\n",
       "      <td>8098-LLAZX</td>\n",
       "      <td>Month-to-month</td>\n",
       "      <td>4</td>\n",
       "      <td>396.10</td>\n",
       "      <td>Fiber optic</td>\n",
       "      <td>0.907</td>\n",
       "      <td>4</td>\n",
       "    </tr>\n",
       "    <tr>\n",
       "      <th>1</th>\n",
       "      <td>7216-EWTRS</td>\n",
       "      <td>Month-to-month</td>\n",
       "      <td>1</td>\n",
       "      <td>100.80</td>\n",
       "      <td>Fiber optic</td>\n",
       "      <td>0.907</td>\n",
       "      <td>4</td>\n",
       "    </tr>\n",
       "    <tr>\n",
       "      <th>2</th>\n",
       "      <td>7024-OHCCK</td>\n",
       "      <td>Month-to-month</td>\n",
       "      <td>2</td>\n",
       "      <td>170.85</td>\n",
       "      <td>Fiber optic</td>\n",
       "      <td>0.907</td>\n",
       "      <td>4</td>\n",
       "    </tr>\n",
       "    <tr>\n",
       "      <th>3</th>\n",
       "      <td>2720-WGKHP</td>\n",
       "      <td>Month-to-month</td>\n",
       "      <td>2</td>\n",
       "      <td>181.70</td>\n",
       "      <td>Fiber optic</td>\n",
       "      <td>0.900</td>\n",
       "      <td>4</td>\n",
       "    </tr>\n",
       "    <tr>\n",
       "      <th>4</th>\n",
       "      <td>5150-ITWWB</td>\n",
       "      <td>Month-to-month</td>\n",
       "      <td>3</td>\n",
       "      <td>335.75</td>\n",
       "      <td>Fiber optic</td>\n",
       "      <td>0.900</td>\n",
       "      <td>4</td>\n",
       "    </tr>\n",
       "  </tbody>\n",
       "</table>\n",
       "</div>"
      ],
      "text/plain": [
       "   customerID        Contract  tenure  TotalCharges InternetService   pred  \\\n",
       "0  8098-LLAZX  Month-to-month       4        396.10     Fiber optic  0.907   \n",
       "1  7216-EWTRS  Month-to-month       1        100.80     Fiber optic  0.907   \n",
       "2  7024-OHCCK  Month-to-month       2        170.85     Fiber optic  0.907   \n",
       "3  2720-WGKHP  Month-to-month       2        181.70     Fiber optic  0.900   \n",
       "4  5150-ITWWB  Month-to-month       3        335.75     Fiber optic  0.900   \n",
       "\n",
       "   cluster  \n",
       "0        4  \n",
       "1        4  \n",
       "2        4  \n",
       "3        4  \n",
       "4        4  "
      ]
     },
     "execution_count": 6,
     "metadata": {},
     "output_type": "execute_result"
    }
   ],
   "source": [
    "df.head()"
   ]
  },
  {
   "cell_type": "markdown",
   "id": "b5ff8805",
   "metadata": {},
   "source": [
    "# Grafico 1\n",
    "\n",
    "- Clientes ordenados por scoring de mayor a menor vs score"
   ]
  },
  {
   "cell_type": "code",
   "execution_count": 7,
   "id": "a0a27644",
   "metadata": {},
   "outputs": [
    {
     "data": {
      "text/html": [
       "<div>\n",
       "<style scoped>\n",
       "    .dataframe tbody tr th:only-of-type {\n",
       "        vertical-align: middle;\n",
       "    }\n",
       "\n",
       "    .dataframe tbody tr th {\n",
       "        vertical-align: top;\n",
       "    }\n",
       "\n",
       "    .dataframe thead th {\n",
       "        text-align: right;\n",
       "    }\n",
       "</style>\n",
       "<table border=\"1\" class=\"dataframe\">\n",
       "  <thead>\n",
       "    <tr style=\"text-align: right;\">\n",
       "      <th></th>\n",
       "      <th>customerID</th>\n",
       "      <th>Contract</th>\n",
       "      <th>tenure</th>\n",
       "      <th>TotalCharges</th>\n",
       "      <th>InternetService</th>\n",
       "      <th>pred</th>\n",
       "      <th>cluster</th>\n",
       "    </tr>\n",
       "  </thead>\n",
       "  <tbody>\n",
       "    <tr>\n",
       "      <th>0</th>\n",
       "      <td>8098-LLAZX</td>\n",
       "      <td>Month-to-month</td>\n",
       "      <td>4</td>\n",
       "      <td>396.10</td>\n",
       "      <td>Fiber optic</td>\n",
       "      <td>0.907</td>\n",
       "      <td>4</td>\n",
       "    </tr>\n",
       "    <tr>\n",
       "      <th>1</th>\n",
       "      <td>7216-EWTRS</td>\n",
       "      <td>Month-to-month</td>\n",
       "      <td>1</td>\n",
       "      <td>100.80</td>\n",
       "      <td>Fiber optic</td>\n",
       "      <td>0.907</td>\n",
       "      <td>4</td>\n",
       "    </tr>\n",
       "    <tr>\n",
       "      <th>2</th>\n",
       "      <td>7024-OHCCK</td>\n",
       "      <td>Month-to-month</td>\n",
       "      <td>2</td>\n",
       "      <td>170.85</td>\n",
       "      <td>Fiber optic</td>\n",
       "      <td>0.907</td>\n",
       "      <td>4</td>\n",
       "    </tr>\n",
       "    <tr>\n",
       "      <th>3</th>\n",
       "      <td>2720-WGKHP</td>\n",
       "      <td>Month-to-month</td>\n",
       "      <td>2</td>\n",
       "      <td>181.70</td>\n",
       "      <td>Fiber optic</td>\n",
       "      <td>0.900</td>\n",
       "      <td>4</td>\n",
       "    </tr>\n",
       "    <tr>\n",
       "      <th>4</th>\n",
       "      <td>5150-ITWWB</td>\n",
       "      <td>Month-to-month</td>\n",
       "      <td>3</td>\n",
       "      <td>335.75</td>\n",
       "      <td>Fiber optic</td>\n",
       "      <td>0.900</td>\n",
       "      <td>4</td>\n",
       "    </tr>\n",
       "  </tbody>\n",
       "</table>\n",
       "</div>"
      ],
      "text/plain": [
       "   customerID        Contract  tenure  TotalCharges InternetService   pred  \\\n",
       "0  8098-LLAZX  Month-to-month       4        396.10     Fiber optic  0.907   \n",
       "1  7216-EWTRS  Month-to-month       1        100.80     Fiber optic  0.907   \n",
       "2  7024-OHCCK  Month-to-month       2        170.85     Fiber optic  0.907   \n",
       "3  2720-WGKHP  Month-to-month       2        181.70     Fiber optic  0.900   \n",
       "4  5150-ITWWB  Month-to-month       3        335.75     Fiber optic  0.900   \n",
       "\n",
       "   cluster  \n",
       "0        4  \n",
       "1        4  \n",
       "2        4  \n",
       "3        4  \n",
       "4        4  "
      ]
     },
     "execution_count": 7,
     "metadata": {},
     "output_type": "execute_result"
    }
   ],
   "source": [
    "df.head()"
   ]
  },
  {
   "cell_type": "code",
   "execution_count": 8,
   "id": "3c924164",
   "metadata": {},
   "outputs": [],
   "source": [
    "dff = df.copy()\n",
    "dff.reset_index(inplace=True)\n",
    "\n",
    "fig1 = px.line(dff, \n",
    "               x='index',\n",
    "               y='pred',\n",
    "               height=350,\n",
    "               title=\"Scores Ordenados\")"
   ]
  },
  {
   "cell_type": "markdown",
   "id": "993e0ecd",
   "metadata": {},
   "source": [
    "# Grafico 2 y 4\n",
    "\n",
    "- grafico 2: clientes ordenados en forma dec por score vs margenes (MN, ME)\n",
    "- grafico 4: clientes ordenados en forma dec por score vs ROI"
   ]
  },
  {
   "cell_type": "code",
   "execution_count": 9,
   "id": "59a54263",
   "metadata": {},
   "outputs": [],
   "source": [
    "# Calculamos el margen esperado medio por cliente\n",
    "# Introducimos una columna para el coste medio \n",
    "\n",
    "mar_medio = 1000\n",
    "coste_medio = 300\n",
    "\n",
    "df['ME']=df['pred']*mar_medio\n",
    "df['MN']=df['ME']-coste_medio\n",
    "\n",
    "# Creamos df_camp\n",
    "df_camp=df.sort_values(by='MN',ascending=False)\n",
    "df_camp.reset_index(drop=True,inplace=True)\n",
    "df_camp.reset_index(inplace=True)"
   ]
  },
  {
   "cell_type": "code",
   "execution_count": 10,
   "id": "361bddac",
   "metadata": {},
   "outputs": [],
   "source": [
    "df_camp['INGRESOS_AGRE']=df_camp['MN'].cumsum()\n",
    "df_camp['COSTES_AGRE']=(df_camp[\"index\"]+1)*coste_medio\n",
    "df_camp['ROI']= df_camp['INGRESOS_AGRE']-df_camp['COSTES_AGRE']"
   ]
  },
  {
   "cell_type": "code",
   "execution_count": 11,
   "id": "e070c62a",
   "metadata": {},
   "outputs": [
    {
     "data": {
      "text/html": [
       "<div>\n",
       "<style scoped>\n",
       "    .dataframe tbody tr th:only-of-type {\n",
       "        vertical-align: middle;\n",
       "    }\n",
       "\n",
       "    .dataframe tbody tr th {\n",
       "        vertical-align: top;\n",
       "    }\n",
       "\n",
       "    .dataframe thead th {\n",
       "        text-align: right;\n",
       "    }\n",
       "</style>\n",
       "<table border=\"1\" class=\"dataframe\">\n",
       "  <thead>\n",
       "    <tr style=\"text-align: right;\">\n",
       "      <th></th>\n",
       "      <th>index</th>\n",
       "      <th>customerID</th>\n",
       "      <th>Contract</th>\n",
       "      <th>tenure</th>\n",
       "      <th>TotalCharges</th>\n",
       "      <th>InternetService</th>\n",
       "      <th>pred</th>\n",
       "      <th>cluster</th>\n",
       "      <th>ME</th>\n",
       "      <th>MN</th>\n",
       "      <th>INGRESOS_AGRE</th>\n",
       "      <th>COSTES_AGRE</th>\n",
       "      <th>ROI</th>\n",
       "    </tr>\n",
       "  </thead>\n",
       "  <tbody>\n",
       "    <tr>\n",
       "      <th>0</th>\n",
       "      <td>0</td>\n",
       "      <td>8098-LLAZX</td>\n",
       "      <td>Month-to-month</td>\n",
       "      <td>4</td>\n",
       "      <td>396.10</td>\n",
       "      <td>Fiber optic</td>\n",
       "      <td>0.907</td>\n",
       "      <td>4</td>\n",
       "      <td>907.0</td>\n",
       "      <td>607.0</td>\n",
       "      <td>607.0</td>\n",
       "      <td>300</td>\n",
       "      <td>307.0</td>\n",
       "    </tr>\n",
       "    <tr>\n",
       "      <th>1</th>\n",
       "      <td>1</td>\n",
       "      <td>7024-OHCCK</td>\n",
       "      <td>Month-to-month</td>\n",
       "      <td>2</td>\n",
       "      <td>170.85</td>\n",
       "      <td>Fiber optic</td>\n",
       "      <td>0.907</td>\n",
       "      <td>4</td>\n",
       "      <td>907.0</td>\n",
       "      <td>607.0</td>\n",
       "      <td>1214.0</td>\n",
       "      <td>600</td>\n",
       "      <td>614.0</td>\n",
       "    </tr>\n",
       "    <tr>\n",
       "      <th>2</th>\n",
       "      <td>2</td>\n",
       "      <td>7216-EWTRS</td>\n",
       "      <td>Month-to-month</td>\n",
       "      <td>1</td>\n",
       "      <td>100.80</td>\n",
       "      <td>Fiber optic</td>\n",
       "      <td>0.907</td>\n",
       "      <td>4</td>\n",
       "      <td>907.0</td>\n",
       "      <td>607.0</td>\n",
       "      <td>1821.0</td>\n",
       "      <td>900</td>\n",
       "      <td>921.0</td>\n",
       "    </tr>\n",
       "    <tr>\n",
       "      <th>3</th>\n",
       "      <td>3</td>\n",
       "      <td>2720-WGKHP</td>\n",
       "      <td>Month-to-month</td>\n",
       "      <td>2</td>\n",
       "      <td>181.70</td>\n",
       "      <td>Fiber optic</td>\n",
       "      <td>0.900</td>\n",
       "      <td>4</td>\n",
       "      <td>900.0</td>\n",
       "      <td>600.0</td>\n",
       "      <td>2421.0</td>\n",
       "      <td>1200</td>\n",
       "      <td>1221.0</td>\n",
       "    </tr>\n",
       "    <tr>\n",
       "      <th>4</th>\n",
       "      <td>4</td>\n",
       "      <td>4424-TKOPW</td>\n",
       "      <td>Month-to-month</td>\n",
       "      <td>2</td>\n",
       "      <td>196.75</td>\n",
       "      <td>Fiber optic</td>\n",
       "      <td>0.900</td>\n",
       "      <td>4</td>\n",
       "      <td>900.0</td>\n",
       "      <td>600.0</td>\n",
       "      <td>3021.0</td>\n",
       "      <td>1500</td>\n",
       "      <td>1521.0</td>\n",
       "    </tr>\n",
       "  </tbody>\n",
       "</table>\n",
       "</div>"
      ],
      "text/plain": [
       "   index  customerID        Contract  tenure  TotalCharges InternetService  \\\n",
       "0      0  8098-LLAZX  Month-to-month       4        396.10     Fiber optic   \n",
       "1      1  7024-OHCCK  Month-to-month       2        170.85     Fiber optic   \n",
       "2      2  7216-EWTRS  Month-to-month       1        100.80     Fiber optic   \n",
       "3      3  2720-WGKHP  Month-to-month       2        181.70     Fiber optic   \n",
       "4      4  4424-TKOPW  Month-to-month       2        196.75     Fiber optic   \n",
       "\n",
       "    pred  cluster     ME     MN  INGRESOS_AGRE  COSTES_AGRE     ROI  \n",
       "0  0.907        4  907.0  607.0          607.0          300   307.0  \n",
       "1  0.907        4  907.0  607.0         1214.0          600   614.0  \n",
       "2  0.907        4  907.0  607.0         1821.0          900   921.0  \n",
       "3  0.900        4  900.0  600.0         2421.0         1200  1221.0  \n",
       "4  0.900        4  900.0  600.0         3021.0         1500  1521.0  "
      ]
     },
     "execution_count": 11,
     "metadata": {},
     "output_type": "execute_result"
    }
   ],
   "source": [
    "df_camp.head()"
   ]
  },
  {
   "cell_type": "code",
   "execution_count": 12,
   "id": "2799930a",
   "metadata": {},
   "outputs": [],
   "source": [
    "# Grafico 3d de segmentacion\n",
    "dff = df_camp.copy()\n",
    "fig2 = px.scatter_3d(df, x='Contract', \n",
    "                    y='tenure', \n",
    "                    z='pred',\n",
    "                    color='cluster', \n",
    "                    #size='pred', \n",
    "                    #size_max=100,\n",
    "                    symbol='InternetService', \n",
    "                    opacity=0.5,\n",
    "                    height=350)\n",
    "\n"
   ]
  },
  {
   "cell_type": "code",
   "execution_count": 13,
   "id": "286fdf6c",
   "metadata": {},
   "outputs": [
    {
     "name": "stdout",
     "output_type": "stream",
     "text": [
      "961\n",
      "115792.0\n",
      "0.601\n"
     ]
    }
   ],
   "source": [
    "ind_ROI_max = dff[dff['ROI']==dff['ROI'].max()][\"index\"].to_list()[0]\n",
    "score_ROI_max=dff[dff['ROI']==dff['ROI'].max()][\"pred\"].to_list()[0]\n",
    "ROI_max=dff[\"ROI\"].max()\n",
    "\n",
    "print(ind_ROI_max)\n",
    "print(ROI_max)\n",
    "print(score_ROI_max)"
   ]
  },
  {
   "cell_type": "code",
   "execution_count": 14,
   "id": "9cff31e1",
   "metadata": {},
   "outputs": [],
   "source": [
    "dff = df_camp.copy()\n",
    "fig4 = px.line(dff,\n",
    "               x='index',\n",
    "               y='ROI', \n",
    "               height=350,\n",
    "               title=\"Grafico de ROI\")\n"
   ]
  },
  {
   "cell_type": "markdown",
   "id": "0543a7ea",
   "metadata": {},
   "source": [
    "# Grafico 3\n",
    "\n",
    "- Grafico de clientes vs ingresos agregados, costos agregados y ROI"
   ]
  },
  {
   "cell_type": "code",
   "execution_count": 15,
   "id": "72b7bb87",
   "metadata": {},
   "outputs": [],
   "source": [
    "# Creamos dos dataframe con los clientes que tengan un score mayor al doble y triple\n",
    "\n",
    "score_x2 = impact_target * 2\n",
    "score_x3 = impact_target * 3\n",
    "\n",
    "bote_camp_x2=df[df['pred']>score_x2]\n",
    "bote_camp_x3=df[df['pred']>score_x3]\n"
   ]
  },
  {
   "cell_type": "code",
   "execution_count": 16,
   "id": "1fccd718",
   "metadata": {},
   "outputs": [],
   "source": [
    "bote_camp_x2.reset_index(inplace=True)\n",
    "indice_x2=bote_camp_x2[len(bote_camp_x2)-1:]['index'].to_list()[0]"
   ]
  },
  {
   "cell_type": "code",
   "execution_count": 17,
   "id": "250064df",
   "metadata": {},
   "outputs": [],
   "source": [
    "bote_camp_x3.reset_index(inplace=True)\n",
    "indice_x3=bote_camp_x3[len(bote_camp_x3)-1:]['index'].to_list()[0]\n"
   ]
  },
  {
   "cell_type": "code",
   "execution_count": 18,
   "id": "cf6bcc6c",
   "metadata": {},
   "outputs": [],
   "source": [
    "score_indice_x3=bote_camp_x3[bote_camp_x3['index']==indice_x3]['pred'].to_list()[0]"
   ]
  },
  {
   "cell_type": "code",
   "execution_count": 19,
   "id": "1103e021",
   "metadata": {},
   "outputs": [
    {
     "data": {
      "text/plain": [
       "1294"
      ]
     },
     "execution_count": 19,
     "metadata": {},
     "output_type": "execute_result"
    }
   ],
   "source": [
    "indice_x2"
   ]
  },
  {
   "cell_type": "code",
   "execution_count": 20,
   "id": "69ed2c49",
   "metadata": {},
   "outputs": [
    {
     "data": {
      "text/plain": [
       "0.796"
      ]
     },
     "execution_count": 20,
     "metadata": {},
     "output_type": "execute_result"
    }
   ],
   "source": [
    "score_indice_x3"
   ]
  },
  {
   "cell_type": "code",
   "execution_count": 21,
   "id": "4343ad50",
   "metadata": {},
   "outputs": [
    {
     "data": {
      "text/plain": [
       "187"
      ]
     },
     "execution_count": 21,
     "metadata": {},
     "output_type": "execute_result"
    }
   ],
   "source": [
    "indice_x3"
   ]
  },
  {
   "cell_type": "code",
   "execution_count": 22,
   "id": "634c6993",
   "metadata": {},
   "outputs": [],
   "source": [
    "dff = df_camp.copy()\n",
    "fig3 = px.line(dff, \n",
    "               x='index', \n",
    "               y=['INGRESOS_AGRE','COSTES_AGRE','ROI'],\n",
    "               height=350,\n",
    "               title=\"Grafico de Costos, Ingresos y ROI\")"
   ]
  },
  {
   "cell_type": "code",
   "execution_count": 23,
   "id": "77d9a67c",
   "metadata": {},
   "outputs": [
    {
     "data": {
      "text/plain": [
       "2051"
      ]
     },
     "execution_count": 23,
     "metadata": {},
     "output_type": "execute_result"
    }
   ],
   "source": [
    "ind_cero=dff[dff['ROI']<=0]['index'].to_list()[0]\n",
    "ind_cero"
   ]
  },
  {
   "cell_type": "code",
   "execution_count": 24,
   "id": "587a02d4",
   "metadata": {},
   "outputs": [],
   "source": [
    "data_graf=df_camp.copy()\n",
    "data_graf=data_graf[['customerID','pred','cluster']]"
   ]
  },
  {
   "cell_type": "markdown",
   "id": "665d9500",
   "metadata": {},
   "source": [
    "# DASHBOARD"
   ]
  },
  {
   "cell_type": "code",
   "execution_count": null,
   "id": "9713eb8d",
   "metadata": {},
   "outputs": [
    {
     "name": "stdout",
     "output_type": "stream",
     "text": [
      "Dash is running on http://127.0.0.1:8050/\n",
      "\n",
      " * Serving Flask app '__main__' (lazy loading)\n",
      " * Environment: production\n",
      "\u001b[31m   WARNING: This is a development server. Do not use it in a production deployment.\u001b[0m\n",
      "\u001b[2m   Use a production WSGI server instead.\u001b[0m\n",
      " * Debug mode: off\n"
     ]
    },
    {
     "name": "stderr",
     "output_type": "stream",
     "text": [
      " * Running on http://127.0.0.1:8050/ (Press CTRL+C to quit)\n",
      "127.0.0.1 - - [10/Nov/2021 20:05:43] \"GET / HTTP/1.1\" 200 -\n",
      "127.0.0.1 - - [10/Nov/2021 20:05:44] \"GET /_dash-dependencies HTTP/1.1\" 200 -\n",
      "127.0.0.1 - - [10/Nov/2021 20:05:44] \"GET /_dash-layout HTTP/1.1\" 200 -\n",
      "127.0.0.1 - - [10/Nov/2021 20:05:44] \"GET /_dash-component-suites/dash/dash_table/async-highlight.js HTTP/1.1\" 200 -\n",
      "127.0.0.1 - - [10/Nov/2021 20:05:44] \"GET /_dash-component-suites/dash/dash_table/async-table.js HTTP/1.1\" 200 -\n",
      "127.0.0.1 - - [10/Nov/2021 20:05:44] \"GET /_dash-component-suites/dash/dcc/async-graph.js HTTP/1.1\" 200 -\n",
      "127.0.0.1 - - [10/Nov/2021 20:05:44] \"GET /_dash-component-suites/dash/dcc/async-plotlyjs.js HTTP/1.1\" 200 -\n"
     ]
    }
   ],
   "source": [
    "# https://www.bootstrapcdn.com/bootswatch/\n",
    "app = dash.Dash(__name__, external_stylesheets=[dbc.themes.BOOTSTRAP],\n",
    "                meta_tags=[{'name': 'viewport',\n",
    "                            'content': 'width=device-width, initial-scale=1.0'}]\n",
    "                )\n",
    "\n",
    "template ='plotly_dark'\n",
    "# 'ggplot2', plotly_dark, plotly_white, seaborn, plotly,presentation, ygridoff\n",
    "\n",
    "\n",
    "# Layout section: Bootstrap (https://hackerthemes.com/bootstrap-cheatsheet/)\n",
    "# ************************************************************************\n",
    "app.layout = dbc.Container([\n",
    "\n",
    "\n",
    "    dbc.Row([\n",
    "\n",
    "         dbc.Col([\n",
    "            dt.DataTable(id='tbl',\n",
    "                         data=data_graf.to_dict('records'),\n",
    "                         columns=[{\"name\": i, \"id\": i} for i in data_graf.columns],\n",
    "                         editable=True,              # allow editing of data inside all cells\n",
    "                         filter_action=\"native\",     # allow filtering of data by user ('native') or not ('none')\n",
    "                         sort_action=\"native\",       # enables data to be sorted per-column by user or not ('none')\n",
    "                         sort_mode=\"single\",         # sort across 'multi' or 'single' columns\n",
    "                         column_selectable=\"multi\",  # allow users to select 'multi' or 'single' columns\n",
    "                         #row_selectable=\"multi\",     # allow users to select 'multi' or 'single' rows\n",
    "                         #row_deletable=True,         # choose if user can delete a row (True) or not (False)\n",
    "                         selected_columns=[],        # ids of columns that user selects\n",
    "                         selected_rows=[],           # indices of rows that user selects\n",
    "                         page_action=\"native\",       # all data is passed to the table up-front or not ('none')\n",
    "                         page_current=0,             # page number that user is on\n",
    "                         page_size=15,                # number of rows visible per page\n",
    "                         style_cell={             # ensure adequate header width when text is shorter than cell's text\n",
    "                             #'backgroundColor': 'rgb(222, 245, 242)'\n",
    "                             'minWidth': 60, \n",
    "                             'maxWidth': 60, \n",
    "                             'width': 60, \n",
    "                             'textAlign': 'center', \n",
    "                             'fontSize':10\n",
    "                         },\n",
    "                         style_data={                # overflow cells' content into multiple lines\n",
    "                             'whiteSpace': 'normal',\n",
    "                             'height': '10'\n",
    "                         },\n",
    "                         style_header={\n",
    "                             'backgroundColor': 'rgb(222, 245, 242)',\n",
    "                             'fontWeight': 'bold',\n",
    "                             'fontSize':12\n",
    "                         },\n",
    "                         style_table={'height': '550px',\n",
    "                                      'overflowY': 'auto'\n",
    "                         })\n",
    "             \n",
    "         ],width=2, align='left',class_name=\"p-3 border bg-light\"),\n",
    "                  \n",
    "        dbc.Col([\n",
    "            \n",
    "            dbc.Row([\n",
    "                dcc.Graph(id='line-fig1', \n",
    "                          figure=fig1\n",
    "                          .add_vrect(x0=0, \n",
    "                                     x1=indice_x2, \n",
    "                                     annotation_text=\"Zona de score x2\", \n",
    "                                     annotation_position=\"top right\",\n",
    "                                     fillcolor=\"skyblue\", \n",
    "                                     opacity=0.25, \n",
    "                                     line_width=0)\n",
    "                           .add_hrect(y0=0, \n",
    "                                     y1=0.21, \n",
    "                                     annotation_text=\"Zona maximiza recall minimiza Precision\", \n",
    "                                     annotation_position=\"bottom right\",\n",
    "                                     fillcolor=\"red\", \n",
    "                                     opacity=0.2, \n",
    "                                     line_width=0)\n",
    "                          .add_hrect(y0=0.21, \n",
    "                                     y1=0.37, \n",
    "                                     annotation_text=\"Zona maximiza precision minimiza Recall\", \n",
    "                                     annotation_position=\"top right\",\n",
    "                                     fillcolor=\"yellow\", \n",
    "                                     opacity=0.2, \n",
    "                                     line_width=0)\n",
    "                          .update_layout(hovermode=\"x unified\",\n",
    "                                         showlegend=False,\n",
    "                                         template=template,\n",
    "                                         font_size=9,\n",
    "                                         margin=dict(t=30, r=0, l=0, b=15)\n",
    "                                         #paper_bgcolor='rgba(0,0,0,0)',\n",
    "                                         #plot_bgcolor='rgba(0,0,0,0)',\n",
    "                                         )\n",
    "                          .update_traces(mode=\"lines\")\n",
    "                          .add_hline(y=score_ROI_max,\n",
    "                                     line_width=1,\n",
    "                                     line_dash=\"dash\",\n",
    "                                     line_color=\"skyblue\")\n",
    "                          .add_vline(x=ind_ROI_max,\n",
    "                                     line_width=1,\n",
    "                                     line_dash=\"dash\",\n",
    "                                     line_color=\"skyblue\")\n",
    "                          \n",
    "                          \n",
    "                         )\n",
    "            ],justify='around',class_name=\"row gy-5\"),\n",
    "            \n",
    "            dbc.Row([\n",
    "                dcc.Graph(id='line-fig3', \n",
    "                          figure=fig2\n",
    "                          .update_layout(margin=dict(l=0, r=0, b=0, t=0),\n",
    "                                         hovermode=\"x unified\",\n",
    "                                         showlegend=False,\n",
    "                                         template=\"plotly_dark\",\n",
    "                                         #width=600,\n",
    "                                         #height=350,\n",
    "                                         font_size=9)\n",
    "                         )\n",
    "            ],justify='around')\n",
    "        ],width=5,align='center'),\n",
    "        \n",
    "        dbc.Col([\n",
    "            dbc.Row([\n",
    "                dcc.Graph(id='line-fig2', \n",
    "                          figure=fig3\n",
    "                          .update_layout(hovermode=\"x unified\",\n",
    "                                         showlegend=False,\n",
    "                                         template=template,\n",
    "                                         font_size=9, \n",
    "                                         margin=dict(t=30, r=0, l=0, b=15))\n",
    "                          .update_traces(mode=\"lines\")\n",
    "                          .add_vline(x=ind_cero,\n",
    "                                     line_width=1,\n",
    "                                     line_dash=\"dash\",\n",
    "                                     line_color=\"red\")\n",
    "                         )\n",
    "            ], justify='around',class_name=\"row gy-5\"),\n",
    "            \n",
    "            dbc.Row([\n",
    "                dcc.Graph(id='line-fig4', \n",
    "                          figure=fig4\n",
    "                          .update_layout(hovermode=\"x unified\",\n",
    "                                         showlegend=False,\n",
    "                                         template=template,\n",
    "                                         font_size=9, \n",
    "                                         margin=dict(t=30, r=0, l=0, b=15))\n",
    "                          .update_traces(mode=\"lines\")\n",
    "                          .add_annotation(\n",
    "                              text='<i>Retorno Optimo de la inversion en el maximo de la curva</i>',\n",
    "                              xref=\"paper\", \n",
    "                              yref=\"paper\",\n",
    "                              x=0.1, \n",
    "                              y=0.3,\n",
    "                              showarrow=False)\n",
    "                          .add_vline(x=ind_ROI_max,\n",
    "                                     line_width=1,\n",
    "                                     line_dash=\"dash\",\n",
    "                                     line_color=\"red\")\n",
    "                          )\n",
    "            ],justify='around')\n",
    "        ],width=5,align='center')\n",
    "    ])\n",
    "\n",
    "],fluid=True)\n",
    "\n",
    "\n",
    "\n",
    "\n",
    "if __name__ == '__main__':\n",
    "    app.run_server(debug=False)\n",
    "\n",
    "    \n",
    "# https://youtu.be/0mfIK8zxUds"
   ]
  },
  {
   "cell_type": "markdown",
   "id": "10747cb2",
   "metadata": {},
   "source": [
    "# DataTable"
   ]
  },
  {
   "cell_type": "code",
   "execution_count": 29,
   "id": "35dc3990",
   "metadata": {},
   "outputs": [
    {
     "name": "stdout",
     "output_type": "stream",
     "text": [
      "Dash is running on http://127.0.0.1:8050/\n",
      "\n",
      "Dash is running on http://127.0.0.1:8050/\n",
      "\n",
      "Dash is running on http://127.0.0.1:8050/\n",
      "\n",
      "Dash is running on http://127.0.0.1:8050/\n",
      "\n"
     ]
    },
    {
     "name": "stderr",
     "output_type": "stream",
     "text": [
      "INFO:__main__:Dash is running on http://127.0.0.1:8050/\n",
      "\n"
     ]
    },
    {
     "name": "stdout",
     "output_type": "stream",
     "text": [
      " * Serving Flask app '__main__' (lazy loading)\n",
      " * Environment: production\n",
      "\u001b[31m   WARNING: This is a development server. Do not use it in a production deployment.\u001b[0m\n",
      "\u001b[2m   Use a production WSGI server instead.\u001b[0m\n",
      " * Debug mode: off\n"
     ]
    },
    {
     "name": "stderr",
     "output_type": "stream",
     "text": [
      "INFO:werkzeug: * Running on http://127.0.0.1:8050/ (Press CTRL+C to quit)\n",
      "INFO:werkzeug:127.0.0.1 - - [06/Nov/2021 20:04:12] \"GET / HTTP/1.1\" 200 -\n",
      "INFO:werkzeug:127.0.0.1 - - [06/Nov/2021 20:04:13] \"GET /_dash-layout HTTP/1.1\" 200 -\n",
      "INFO:werkzeug:127.0.0.1 - - [06/Nov/2021 20:04:13] \"GET /_dash-dependencies HTTP/1.1\" 200 -\n",
      "INFO:werkzeug:127.0.0.1 - - [06/Nov/2021 20:04:13] \"GET /_dash-component-suites/dash/dash_table/async-highlight.js HTTP/1.1\" 200 -\n",
      "INFO:werkzeug:127.0.0.1 - - [06/Nov/2021 20:04:13] \"GET /_dash-component-suites/dash/dash_table/async-table.js HTTP/1.1\" 200 -\n"
     ]
    }
   ],
   "source": [
    "# App layout\n",
    "app = dash.Dash(__name__, prevent_initial_callbacks=True) # this was introduced in Dash version 1.12.0\n",
    "\n",
    "# Sorting operators (https://dash.plotly.com/datatable/filtering)\n",
    "app.layout = html.Div([\n",
    "    dt.DataTable(\n",
    "        id='datatable-interactivity',\n",
    "        columns=[\n",
    "            {\"name\": i, \"id\": i, \"deletable\": True, \"selectable\": True, \"hideable\": True}\n",
    "            if i == \"Contract\" or i == \"customerID\"\n",
    "            else {\"name\": i, \"id\": i, \"deletable\": True, \"selectable\": True}\n",
    "            for i in df.columns\n",
    "        ],\n",
    "        data=df.to_dict('records'),  # the contents of the table\n",
    "        editable=True,              # allow editing of data inside all cells\n",
    "        filter_action=\"native\",     # allow filtering of data by user ('native') or not ('none')\n",
    "        sort_action=\"native\",       # enables data to be sorted per-column by user or not ('none')\n",
    "        sort_mode=\"single\",         # sort across 'multi' or 'single' columns\n",
    "        column_selectable=\"multi\",  # allow users to select 'multi' or 'single' columns\n",
    "        row_selectable=\"multi\",     # allow users to select 'multi' or 'single' rows\n",
    "        row_deletable=True,         # choose if user can delete a row (True) or not (False)\n",
    "        selected_columns=[],        # ids of columns that user selects\n",
    "        selected_rows=[],           # indices of rows that user selects\n",
    "        page_action=\"native\",       # all data is passed to the table up-front or not ('none')\n",
    "        page_current=0,             # page number that user is on\n",
    "        page_size=10,                # number of rows visible per page\n",
    "        style_cell={                # ensure adequate header width when text is shorter than cell's text\n",
    "            'minWidth': 60, 'maxWidth': 60, 'width': 60\n",
    "        },\n",
    "        style_cell_conditional=[    # align text columns to left. By default they are aligned to right\n",
    "            {\n",
    "                'if': {'column_id': c},\n",
    "                'textAlign': 'center'\n",
    "            } for c in ['customerID','Contract','tenure_disc_corr', 'TotalCharges_disc_corr']\n",
    "        ],\n",
    "        style_data={                # overflow cells' content into multiple lines\n",
    "            'whiteSpace': 'normal',\n",
    "            'height': 'auto'\n",
    "        }\n",
    "    ),\n",
    "\n",
    "    html.Br(),\n",
    "    html.Br(),\n",
    "    html.Div(id='bar-container'),\n",
    "    html.Div(id='choromap-container')\n",
    "\n",
    "])\n",
    "\n",
    "\n",
    "# -------------------------------------------------------------------------------------\n",
    "# Highlight selected column\n",
    "@app.callback(\n",
    "    Output('datatable-interactivity', 'style_data_conditional'),\n",
    "    [Input('datatable-interactivity', 'selected_columns')]\n",
    ")\n",
    "def update_styles(selected_columns):\n",
    "    return [{\n",
    "        'if': {'column_id': i},\n",
    "        'background_color': '#D2F3FF'\n",
    "    } for i in selected_columns]\n",
    "\n",
    "\n",
    "# -------------------------------------------------------------------------------------\n",
    "\n",
    "\n",
    "if __name__ == '__main__':\n",
    "    app.run_server(debug=False) # Ojo aqui con debug.. En un editor de codigo se puede poner debug=True\n",
    "    "
   ]
  },
  {
   "cell_type": "code",
   "execution_count": null,
   "id": "a639622c",
   "metadata": {},
   "outputs": [],
   "source": []
  }
 ],
 "metadata": {
  "kernelspec": {
   "display_name": "Python 3",
   "language": "python",
   "name": "python3"
  },
  "language_info": {
   "codemirror_mode": {
    "name": "ipython",
    "version": 3
   },
   "file_extension": ".py",
   "mimetype": "text/x-python",
   "name": "python",
   "nbconvert_exporter": "python",
   "pygments_lexer": "ipython3",
   "version": "3.9.1"
  },
  "toc": {
   "base_numbering": 1,
   "nav_menu": {},
   "number_sections": true,
   "sideBar": true,
   "skip_h1_title": false,
   "title_cell": "Table of Contents",
   "title_sidebar": "Contents",
   "toc_cell": false,
   "toc_position": {},
   "toc_section_display": true,
   "toc_window_display": true
  },
  "varInspector": {
   "cols": {
    "lenName": 16,
    "lenType": 16,
    "lenVar": 40
   },
   "kernels_config": {
    "python": {
     "delete_cmd_postfix": "",
     "delete_cmd_prefix": "del ",
     "library": "var_list.py",
     "varRefreshCmd": "print(var_dic_list())"
    },
    "r": {
     "delete_cmd_postfix": ") ",
     "delete_cmd_prefix": "rm(",
     "library": "var_list.r",
     "varRefreshCmd": "cat(var_dic_list()) "
    }
   },
   "types_to_exclude": [
    "module",
    "function",
    "builtin_function_or_method",
    "instance",
    "_Feature"
   ],
   "window_display": false
  }
 },
 "nbformat": 4,
 "nbformat_minor": 5
}
